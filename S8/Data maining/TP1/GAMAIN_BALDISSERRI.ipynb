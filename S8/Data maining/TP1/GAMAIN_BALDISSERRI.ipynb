{
 "cells": [
  {
   "cell_type": "code",
   "execution_count": 4,
   "metadata": {},
   "outputs": [
    {
     "name": "stdout",
     "output_type": "stream",
     "text": [
      "hello world\n"
     ]
    }
   ],
   "source": [
    "print(\"hello world\")"
   ]
  },
  {
   "cell_type": "code",
   "execution_count": 5,
   "metadata": {},
   "outputs": [
    {
     "name": "stdout",
     "output_type": "stream",
     "text": [
      "['clear_data_home', 'dump_svmlight_file', 'fetch_20newsgroups', 'fetch_20newsgroups_vectorized', 'fetch_lfw_pairs', 'fetch_lfw_people', 'fetch_olivetti_faces', 'fetch_species_distributions', 'fetch_california_housing', 'fetch_covtype', 'fetch_rcv1', 'fetch_kddcup99', 'fetch_openml', 'get_data_home', 'load_boston', 'load_diabetes', 'load_digits', 'load_files', 'load_iris', 'load_breast_cancer', 'load_linnerud', 'load_sample_image', 'load_sample_images', 'load_svmlight_file', 'load_svmlight_files', 'load_wine', 'make_biclusters', 'make_blobs', 'make_circles', 'make_classification', 'make_checkerboard', 'make_friedman1', 'make_friedman2', 'make_friedman3', 'make_gaussian_quantiles', 'make_hastie_10_2', 'make_low_rank_matrix', 'make_moons', 'make_multilabel_classification', 'make_regression', 'make_s_curve', 'make_sparse_coded_signal', 'make_sparse_spd_matrix', 'make_sparse_uncorrelated', 'make_spd_matrix', 'make_swiss_roll']\n"
     ]
    }
   ],
   "source": [
    "from sklearn import datasets\n",
    "print(datasets.__all__) "
   ]
  },
  {
   "cell_type": "code",
   "execution_count": 7,
   "metadata": {},
   "outputs": [
    {
     "name": "stdout",
     "output_type": "stream",
     "text": [
      "[('ENIAC coding system', 1943) ('ENIAC Short Code', 1946)\n",
      " ('Von Neumann and Goldstine graphing system', 1946)\n",
      " ('ARC Assembly', 1947) ('Plankalkül', 1948) ('CPC Coding scheme', 1948)\n",
      " ('Curry notation system', 1948) ('Short Code', 1949)\n",
      " ('assembly language', 1949) ('Short Code', 1950) ('G-code', 1950)\n",
      " ('Birkbeck Assembler', 1950) ('Superplan', 1951) ('ALGAE', 1951)\n",
      " ('Intermediate Programming Language', 1951)\n",
      " ('Regional Assembly Language', 1951)\n",
      " ('Boehm unnamed coding system', 1951) ('Klammerausdrücke', 1951)\n",
      " ('OMNIBAC Symbolic Assembler', 1951) ('Stanislaus', 1951)\n",
      " ('Whirlwind assembler', 1951) ('Rochester assembler', 1951)\n",
      " ('Sort Merge Generator', 1951) ('autocode', 1952) ('A-0 System', 1952)\n",
      " ('Editing Generator', 1952) ('COMPOOL', 1952) ('Speedcoding', 1953)\n",
      " ('READ/PRINT', 1953) ('Fortran', 1954) ('ARITH-MATIC', 1954)\n",
      " ('autocode', 1954) ('Laning and Zierler system', 1954)\n",
      " ('MATH-MATIC', 1954) ('MATRIX MATH', 1954) ('FLOW-MATIC', 1955)\n",
      " ('PACT', 1955) ('BACAIC', 1955) ('Freiburger Code', 1955)\n",
      " ('Sequentielle Formelübersetzung', 1955) ('Internal Translator', 1955)\n",
      " ('PRINT', 1955) ('Information Processing Language', 1956)\n",
      " ('FORTRAN for the IBM 704', 1956) ('Fortran', 1957) ('COMTRAN', 1957)\n",
      " ('GEORGE', 1957) ('UNICODE', 1957) ('ALGOL 58', 1958) ('Lisp', 1958)\n",
      " ('ALGOL', 1958) ('FORTRAN III', 1958) ('FORTRAN II', 1958)\n",
      " ('JOVIAL', 1959) ('TRAC', 1959) ('COBOL', 1959) ('MAD', 1959)\n",
      " ('Lisp', 1959) ('FACT', 1959) ('COBOL', 1960) ('ALCOR', 1960)\n",
      " ('ALGOL 60', 1960) ('FORTRAN IV', 1961) ('TECO', 1962) ('SNOBOL', 1962)\n",
      " ('APL', 1962) ('Simula', 1962) ('CORC', 1962) ('CPL', 1963)\n",
      " ('JOSS', 1963) ('P′′', 1964) ('Report Program Generator', 1964)\n",
      " ('TRAC', 1964) ('BASIC', 1964) ('COWSEL', 1964) ('MARK IV', 1964)\n",
      " ('MIMIC', 1964) ('PL/I', 1964) ('Speakeasy', 1964) ('IBM RPG II', 1965)\n",
      " ('Atlas Autocode', 1965) ('TELCOMP', 1965) ('Euler', 1966)\n",
      " ('ISWIM', 1966) ('ALGOL W', 1966)\n",
      " ('Massachusetts General Hospital Utility Multi-Programming System', 1966)\n",
      " ('JOSS', 1966) ('Coral 66', 1966) ('BCPL', 1966) ('APL', 1966)\n",
      " ('FORTRAN 66', 1966)\n",
      " ('Massachusetts General Hospital Utility Multi-Programming System', 1967)\n",
      " ('Hop', 1967) ('XPL', 1967) ('Interlisp', 1967) ('BCPL', 1967)\n",
      " ('Simula', 1967) ('Space Programming Language', 1967) ('PILOT', 1968)\n",
      " ('ALGOL 68', 1968)]\n"
     ]
    }
   ],
   "source": [
    "import numpy as np\n",
    "dataset = np.loadtxt(\"pl.csv\", dtype={'names': ('name', 'year'), 'formats': ('U100', 'i4')},\n",
    "   skiprows=1, delimiter=\",\", encoding=\"UTF-8\")\n",
    "print(dataset) "
   ]
  },
  {
   "cell_type": "code",
   "execution_count": 9,
   "metadata": {
    "scrolled": true
   },
   "outputs": [
    {
     "name": "stdout",
     "output_type": "stream",
     "text": [
      "[('ENIAC coding system', 1943) ('ENIAC Short Code', 1946)\n",
      " ('Von Neumann and Goldstine graphing system', 1946)\n",
      " ('ARC Assembly', 1947) ('Plankalkül', 1948) ('CPC Coding scheme', 1948)\n",
      " ('Curry notation system', 1948) ('Short Code', 1949)\n",
      " ('assembly language', 1949) ('Short Code', 1950)\n",
      " ('Birkbeck Assembler', 1950) ('G-code', 1950) ('Superplan', 1951)\n",
      " ('ALGAE', 1951) ('Intermediate Programming Language', 1951)\n",
      " ('Regional Assembly Language', 1951)\n",
      " ('Boehm unnamed coding system', 1951) ('Klammerausdrücke', 1951)\n",
      " ('OMNIBAC Symbolic Assembler', 1951) ('Stanislaus', 1951)\n",
      " ('Whirlwind assembler', 1951) ('Rochester assembler', 1951)\n",
      " ('Sort Merge Generator', 1951) ('Editing Generator', 1952)\n",
      " ('COMPOOL', 1952) ('autocode', 1952) ('A-0 System', 1952)\n",
      " ('READ/PRINT', 1953) ('Speedcoding', 1953) ('Fortran', 1954)\n",
      " ('MATRIX MATH', 1954) ('autocode', 1954) ('ARITH-MATIC', 1954)\n",
      " ('Laning and Zierler system', 1954) ('MATH-MATIC', 1954)\n",
      " ('FLOW-MATIC', 1955) ('BACAIC', 1955) ('Freiburger Code', 1955)\n",
      " ('Sequentielle Formelübersetzung', 1955) ('Internal Translator', 1955)\n",
      " ('PRINT', 1955) ('PACT', 1955) ('Information Processing Language', 1956)\n",
      " ('FORTRAN for the IBM 704', 1956) ('Fortran', 1957) ('UNICODE', 1957)\n",
      " ('COMTRAN', 1957) ('GEORGE', 1957) ('ALGOL 58', 1958) ('Lisp', 1958)\n",
      " ('FORTRAN III', 1958) ('FORTRAN II', 1958) ('ALGOL', 1958)\n",
      " ('JOVIAL', 1959) ('TRAC', 1959) ('COBOL', 1959) ('Lisp', 1959)\n",
      " ('MAD', 1959) ('FACT', 1959) ('COBOL', 1960) ('COBOL', 1960)\n",
      " ('ALGOL 60', 1960) ('ALCOR', 1960) ('FORTRAN IV', 1961) ('SNOBOL', 1962)\n",
      " ('TECO', 1962) ('Simula', 1962) ('APL', 1962) ('CORC', 1962)\n",
      " ('CPL', 1963) ('JOSS', 1963) ('P′′', 1964)\n",
      " ('Report Program Generator', 1964) ('TRAC', 1964) ('BASIC', 1964)\n",
      " ('COWSEL', 1964) ('PL/I', 1964) ('MARK IV', 1964) ('MIMIC', 1964)\n",
      " ('Speakeasy', 1964) ('IBM RPG II', 1965) ('Atlas Autocode', 1965)\n",
      " ('TELCOMP', 1965) ('Euler', 1966) ('ISWIM', 1966) ('ALGOL W', 1966)\n",
      " ('JOSS', 1966)\n",
      " ('Massachusetts General Hospital Utility Multi-Programming System', 1966)\n",
      " ('BCPL', 1966) ('Coral 66', 1966) ('FORTRAN 66', 1966) ('APL', 1966)\n",
      " ('Hop', 1967)\n",
      " ('Massachusetts General Hospital Utility Multi-Programming System', 1967)\n",
      " ('Space Programming Language', 1967) ('BCPL', 1967) ('Interlisp', 1967)\n",
      " ('Simula', 1967) ('XPL', 1967) ('PILOT', 1968)]\n"
     ]
    }
   ],
   "source": [
    "import numpy as np\n",
    "dataset = np.loadtxt(\"pl.tsv\", dtype={'names': ('name', 'year'), 'formats': ('U100', 'i4')},\n",
    "   skiprows=1, delimiter=\"\\t\", encoding=\"UTF-8\")\n",
    "print(dataset) "
   ]
  },
  {
   "cell_type": "code",
   "execution_count": 13,
   "metadata": {},
   "outputs": [
    {
     "name": "stdout",
     "output_type": "stream",
     "text": [
      "                                languageLabel  year\n",
      "0                         ENIAC coding system  1943\n",
      "1                            ENIAC Short Code  1946\n",
      "2   Von Neumann and Goldstine graphing system  1946\n",
      "3                                ARC Assembly  1947\n",
      "4                                  Plankalkül  1948\n",
      "..                                        ...   ...\n",
      "95                                       BCPL  1967\n",
      "96                                  Interlisp  1967\n",
      "97                                     Simula  1967\n",
      "98                                        XPL  1967\n",
      "99                                      PILOT  1968\n",
      "\n",
      "[100 rows x 2 columns]\n"
     ]
    }
   ],
   "source": [
    "from pandas.io.json import json_normalize\n",
    "import pandas as pd\n",
    "import json\n",
    "\n",
    "data = json.load(open('pl.json'))\n",
    "dataframe = pd.json_normalize(data)\n",
    "print(dataframe)"
   ]
  },
  {
   "cell_type": "code",
   "execution_count": 14,
   "metadata": {},
   "outputs": [
    {
     "name": "stdout",
     "output_type": "stream",
     "text": [
      "    year                              languageLabel\n",
      "0   1942                                 Plankalkül\n",
      "1   1943                        ENIAC coding system\n",
      "2   1946                           ENIAC Short Code\n",
      "3   1946  Von Neumann and Goldstine graphing system\n",
      "4   1947                               ARC Assembly\n",
      "..   ...                                        ...\n",
      "95  1968                                     MAPPER\n",
      "96  1968                                      DIBOL\n",
      "97  1968                                      Forth\n",
      "98  1968                                   Analitik\n",
      "99  1968                                  TREE-META\n",
      "\n",
      "[100 rows x 2 columns]\n"
     ]
    }
   ],
   "source": [
    "import urllib.request\n",
    "import json\n",
    "import pandas as pd\n",
    "\n",
    "url = \"https://query.wikidata.org/sparql?query=SELECT%20%3FlanguageLabel%20(YEAR(%3Finception)%20as%20%3Fyear)%0AWHERE%0A%7B%0A%20%20%23instances%20of%20programming%20language%0A%20%20%3Flanguage%20wdt%3AP31%20wd%3AQ9143%3B%0A%20%20%20%20%20%20%20%20%20%20%20%20wdt%3AP571%20%3Finception%3B%0A%20%20%20%20%20%20%20%20%20%20%20%20rdfs%3Alabel%20%3FlanguageLabel.%0A%20%20FILTER(lang(%3FlanguageLabel)%20%3D%20%22en%22)%0A%7D%0AORDER%20BY%20%3Fyear%0ALIMIT%20100&format=json\"\n",
    "response = urllib.request.urlopen(url)\n",
    "responsedata = json.loads(response.read().decode('utf-8'))\n",
    "\n",
    "array = []\n",
    "\n",
    "for data in responsedata['results']['bindings']:\n",
    "  array.append([data['year']['value'], data['languageLabel']['value']])\n",
    "dataframe = pd.DataFrame(array, columns=['year', 'languageLabel'])\n",
    "dataframe = dataframe.astype(dtype= {\"year\":\"<i4\", \"languageLabel\":\"<U200\"})\n",
    "print(dataframe)"
   ]
  },
  {
   "cell_type": "code",
   "execution_count": 15,
   "metadata": {},
   "outputs": [
    {
     "name": "stdout",
     "output_type": "stream",
     "text": [
      "      languageLabel\n",
      "year               \n",
      "1942              1\n",
      "1943              1\n",
      "1946              2\n",
      "1947              1\n",
      "1948              2\n",
      "1949              2\n",
      "1950              2\n",
      "1951             11\n",
      "1952              4\n",
      "1953              2\n",
      "1954              6\n",
      "1955              8\n",
      "1956              1\n",
      "1957              3\n",
      "1958              3\n",
      "1959              5\n",
      "1960              3\n",
      "1962              4\n",
      "1963              2\n",
      "1964              9\n",
      "1965              3\n",
      "1966              7\n",
      "1967              7\n",
      "1968             11\n"
     ]
    }
   ],
   "source": [
    "grouped = dataframe.groupby('year').count()\n",
    "print(grouped)"
   ]
  },
  {
   "cell_type": "code",
   "execution_count": 16,
   "metadata": {},
   "outputs": [
    {
     "name": "stdout",
     "output_type": "stream",
     "text": [
      "     languageLabel\n",
      "             count\n",
      "year              \n",
      "1942             1\n",
      "1943             1\n",
      "1946             2\n",
      "1947             1\n",
      "1948             2\n",
      "1949             2\n",
      "1950             2\n",
      "1951            11\n",
      "1952             4\n",
      "1953             2\n",
      "1954             6\n",
      "1955             8\n",
      "1956             1\n",
      "1957             3\n",
      "1958             3\n",
      "1959             5\n",
      "1960             3\n",
      "1962             4\n",
      "1963             2\n",
      "1964             9\n",
      "1965             3\n",
      "1966             7\n",
      "1967             7\n",
      "1968            11\n"
     ]
    }
   ],
   "source": [
    "grouped = dataframe.groupby('year').agg(['count'])\n",
    "print(grouped)"
   ]
  },
  {
   "cell_type": "code",
   "execution_count": 18,
   "metadata": {},
   "outputs": [
    {
     "name": "stdout",
     "output_type": "stream",
     "text": [
      "                                            languageLabel\n",
      "                                                    count\n",
      "year paradigmLabel                                       \n",
      "1948 procedural programming                             1\n",
      "1949 non-structured programming                         1\n",
      "     procedural programming                             1\n",
      "1950 procedural programming                             1\n",
      "1953 procedural programming                             1\n",
      "...                                                   ...\n",
      "1970 imperative programming                             1\n",
      "     procedural programming                             1\n",
      "     structured programming                             1\n",
      "1971 functional programming                             1\n",
      "     knowledge representation and reasoning             1\n",
      "\n",
      "[73 rows x 1 columns]\n"
     ]
    }
   ],
   "source": [
    "from pandas.io.json import json_normalize\n",
    "import pandas as pd\n",
    "import json\n",
    "\n",
    "jsondata = json.load(open('plparadigm.json'))\n",
    "array = []\n",
    "\n",
    "for data in jsondata:\n",
    "  array.append([data['year'], data['languageLabel'], data['paradigmLabel']])\n",
    "dataframe = pd.DataFrame(array, columns=['year', 'languageLabel', 'paradigmLabel'])\n",
    "dataframe = dataframe.astype(dtype= {\"year\" : \"int64\", \"languageLabel\" : \"<U200\", \"paradigmLabel\" : \"<U200\"})\n",
    "\n",
    "grouped = dataframe.groupby(['year', 'paradigmLabel']).agg(['count'])\n",
    "print(grouped)"
   ]
  },
  {
   "cell_type": "code",
   "execution_count": 19,
   "metadata": {},
   "outputs": [
    {
     "name": "stdout",
     "output_type": "stream",
     "text": [
      "                            languageLabel\n",
      "                                    count\n",
      "paradigmLabel          year              \n",
      "array programming      1954             1\n",
      "                       1957             1\n",
      "                       1962             1\n",
      "                       1966             1\n",
      "assembly language      1956             1\n",
      "...                                   ...\n",
      "structured programming 1957             1\n",
      "                       1958             1\n",
      "                       1962             1\n",
      "                       1966             1\n",
      "                       1970             1\n",
      "\n",
      "[73 rows x 1 columns]\n"
     ]
    }
   ],
   "source": [
    "grouped = dataframe.groupby(['paradigmLabel', 'year']).agg(['count'])\n",
    "print(grouped)"
   ]
  },
  {
   "cell_type": "code",
   "execution_count": 66,
   "metadata": {},
   "outputs": [
    {
     "name": "stdout",
     "output_type": "stream",
     "text": [
      "     countryLabel  year population\n",
      "0     Afghanistan  1960    8774440\n",
      "1     Afghanistan  1961    8953544\n",
      "2     Afghanistan  1962    9141783\n",
      "3     Afghanistan  1963    9339507\n",
      "4     Afghanistan  1964    9547131\n",
      "..            ...   ...        ...\n",
      "995  Burkina Faso  1992    9297116\n",
      "996  Burkina Faso  1993    9552473\n",
      "997  Burkina Faso  1994    9816586\n",
      "998  Burkina Faso  1995   10089876\n",
      "999  Burkina Faso  1996   10372562\n",
      "\n",
      "[1000 rows x 3 columns]\n"
     ]
    }
   ],
   "source": [
    "from pandas.io.json import json_normalize\n",
    "import pandas as pd\n",
    "import json\n",
    "\n",
    "#The population of countries in alphabetical order of their names and ascending order of year.\n",
    "data = json.load(open('Country_pop.json'))\n",
    "dataframe = pd.json_normalize(data)\n",
    "print(dataframe)\n",
    "\n"
   ]
  },
  {
   "cell_type": "code",
   "execution_count": 65,
   "metadata": {},
   "outputs": [
    {
     "name": "stdout",
     "output_type": "stream",
     "text": [
      "                     year population\n",
      "countryLabel                        \n",
      "Afghanistan          2018    8774440\n",
      "Algeria              2017   11277757\n",
      "Angola               2017    4965988\n",
      "Antigua and Barbuda  2017      54681\n",
      "Argentina            2019    3954911\n",
      "Artsakh              2012     137700\n",
      "Australia            2017   22637127\n",
      "Austria              2017    7047539\n",
      "Bahamas              2017     109526\n",
      "Bahrain              2017     162501\n",
      "Bangladesh           2017   49537147\n",
      "Barbados             2017     230858\n",
      "Benin                2017    2431620\n",
      "Bhutan               2017     224155\n",
      "Bolivia              2017    3353125\n",
      "Botswana             2017     524173\n",
      "Brazil               2018   72775883\n",
      "Brunei               2017      81817\n",
      "Bulgaria             2017    7867374\n",
      "Burkina Faso         1996    4829291\n"
     ]
    }
   ],
   "source": [
    "#The latest available population of every country\n",
    "grouped = dataframe.groupby(['countryLabel']).agg({'year' : 'max' , 'population' : 'first'})\n",
    "print(grouped)"
   ]
  },
  {
   "cell_type": "code",
   "execution_count": 84,
   "metadata": {},
   "outputs": [
    {
     "name": "stdout",
     "output_type": "stream",
     "text": [
      "Brazil\n",
      "Antigua and Barbuda\n"
     ]
    }
   ],
   "source": [
    "#The country with the lowest and highest population (considering the latest population)\n",
    "\n",
    "dataframe = dataframe.astype(dtype= {\"year\" : \"int64\", \"population\" : \"int64\", \"countryLabel\" : \"<U200\"})\n",
    "grouped = dataframe.groupby(['countryLabel']).agg({'population': 'first','year': 'max'})\n",
    "\n",
    "# get the index position of max values in every column\n",
    "idxMaxPop = grouped['population'].idxmax()\n",
    "idxMinPop = grouped['population'].idxmin()\n",
    "\n",
    "print(idxMaxPop)\n",
    "print(idxMinPop)\n"
   ]
  },
  {
   "cell_type": "code",
   "execution_count": 86,
   "metadata": {},
   "outputs": [
    {
     "name": "stdout",
     "output_type": "stream",
     "text": [
      "                                                 title subjectLabel  year\n",
      "0    Humans rely on the same rules to assess emotio...        human  2014\n",
      "1    Magnetic resonance spectroscopy: an in vivo mo...        human  2014\n",
      "2    Leveraging human genetic and adverse outcome p...        human  2018\n",
      "3    Exploring the Uncharacterized Human Proteome U...        human  2018\n",
      "4    Traumatic brain injury in Africa in 2050: a mo...       Africa  2015\n",
      "..                                                 ...          ...   ...\n",
      "995        Recovery in Canada: toward social equality.       Canada  2012\n",
      "996  City mouse, country mouse: a mixed-methods eva...       Canada  2016\n",
      "997  Dioxin-like compounds are not associated with ...       Canada  2013\n",
      "998  Examining the use of salpingectomy with hyster...       Canada  2013\n",
      "999  Trends in prostate cancer incidence and mortal...       Canada  2016\n",
      "\n",
      "[1000 rows x 3 columns]\n"
     ]
    }
   ],
   "source": [
    "from pandas.io.json import json_normalize\n",
    "import pandas as pd\n",
    "import json\n",
    "\n",
    "#The population of countries in alphabetical order of their names and ascending order of year.\n",
    "data = json.load(open('articles.json'))\n",
    "dataframe = pd.json_normalize(data)\n",
    "dataframe = dataframe.astype(dtype= {\"year\" : \"int64\", \"title\" : \"<U200\", \"subjectLabel\" : \"<U200\"})\n",
    "\n",
    "print(dataframe)"
   ]
  },
  {
   "cell_type": "code",
   "execution_count": 120,
   "metadata": {},
   "outputs": [
    {
     "name": "stdout",
     "output_type": "stream",
     "text": [
      "   subjectLabel  year  title\n",
      "0        Africa  2013      3\n",
      "1        Africa  2014      4\n",
      "2        Africa  2015      4\n",
      "3        Africa  2016      1\n",
      "4        Africa  2017      7\n",
      "5        Africa  2018      6\n",
      "6        Africa  2019      6\n",
      "7        Canada  2011    141\n",
      "8        Canada  2012    177\n",
      "9        Canada  2013    112\n",
      "10       Canada  2014    125\n",
      "11       Canada  2015    205\n",
      "12       Canada  2016    152\n",
      "13       Canada  2017     42\n",
      "14       Canada  2018      4\n",
      "15        death  2011      1\n",
      "16        death  2012      1\n",
      "17        death  2015      2\n",
      "18        death  2016      2\n",
      "19    happiness  2011      1\n",
      "20        human  2014      2\n",
      "21        human  2018      2\n"
     ]
    }
   ],
   "source": [
    "#The number of articles published on different subjects every year.\n",
    "\n",
    "grouped = dataframe.groupby(['subjectLabel' , 'year']).count().reset_index()\n",
    "print(grouped)"
   ]
  },
  {
   "cell_type": "code",
   "execution_count": 113,
   "metadata": {},
   "outputs": [
    {
     "name": "stdout",
     "output_type": "stream",
     "text": [
      "      title subjectLabel\n",
      "year                    \n",
      "2011    141       Canada\n",
      "2012    177       Canada\n",
      "2013    112       Africa\n",
      "2014    125       Africa\n",
      "2015    205       Africa\n",
      "2016    152       Africa\n",
      "2017     42       Africa\n",
      "2018      6       Africa\n",
      "2019      6       Africa\n"
     ]
    }
   ],
   "source": [
    "#Top subject of interest to the scientific community every year(based on the above query results).\n",
    "\n",
    "result = grouped.groupby(['year']).agg({'title' : 'max' , 'subjectLabel' : 'first'})\n",
    "print(result)\n",
    "\n"
   ]
  },
  {
   "cell_type": "code",
   "execution_count": 121,
   "metadata": {},
   "outputs": [
    {
     "name": "stdout",
     "output_type": "stream",
     "text": [
      "  subjectLabel  title\n",
      "0       Africa     31\n",
      "1       Canada    958\n",
      "2        death      6\n",
      "3    happiness      1\n",
      "4        human      4\n"
     ]
    },
    {
     "data": {
      "text/html": [
       "<div>\n",
       "<style scoped>\n",
       "    .dataframe tbody tr th:only-of-type {\n",
       "        vertical-align: middle;\n",
       "    }\n",
       "\n",
       "    .dataframe tbody tr th {\n",
       "        vertical-align: top;\n",
       "    }\n",
       "\n",
       "    .dataframe thead th {\n",
       "        text-align: right;\n",
       "    }\n",
       "</style>\n",
       "<table border=\"1\" class=\"dataframe\">\n",
       "  <thead>\n",
       "    <tr style=\"text-align: right;\">\n",
       "      <th></th>\n",
       "      <th>subjectLabel</th>\n",
       "      <th>title</th>\n",
       "    </tr>\n",
       "  </thead>\n",
       "  <tbody>\n",
       "    <tr>\n",
       "      <th>1</th>\n",
       "      <td>Canada</td>\n",
       "      <td>958</td>\n",
       "    </tr>\n",
       "    <tr>\n",
       "      <th>0</th>\n",
       "      <td>Africa</td>\n",
       "      <td>31</td>\n",
       "    </tr>\n",
       "    <tr>\n",
       "      <th>2</th>\n",
       "      <td>death</td>\n",
       "      <td>6</td>\n",
       "    </tr>\n",
       "    <tr>\n",
       "      <th>4</th>\n",
       "      <td>human</td>\n",
       "      <td>4</td>\n",
       "    </tr>\n",
       "    <tr>\n",
       "      <th>3</th>\n",
       "      <td>happiness</td>\n",
       "      <td>1</td>\n",
       "    </tr>\n",
       "  </tbody>\n",
       "</table>\n",
       "</div>"
      ],
      "text/plain": [
       "  subjectLabel  title\n",
       "1       Canada    958\n",
       "0       Africa     31\n",
       "2        death      6\n",
       "4        human      4\n",
       "3    happiness      1"
      ]
     },
     "execution_count": 121,
     "metadata": {},
     "output_type": "execute_result"
    }
   ],
   "source": [
    "#Top 10 subjects of interest to the scientific community (based on the above query results) since 2010.\n",
    "grouped = dataframe.groupby(['subjectLabel' ]).agg({'title' : 'count'}).reset_index()\n",
    "print(grouped)\n",
    "grouped.sort_values('title', ascending=False).head(10)"
   ]
  }
 ],
 "metadata": {
  "kernelspec": {
   "display_name": "Python 3",
   "language": "python",
   "name": "python3"
  },
  "language_info": {
   "codemirror_mode": {
    "name": "ipython",
    "version": 3
   },
   "file_extension": ".py",
   "mimetype": "text/x-python",
   "name": "python",
   "nbconvert_exporter": "python",
   "pygments_lexer": "ipython3",
   "version": "3.8.1"
  }
 },
 "nbformat": 4,
 "nbformat_minor": 4
}
