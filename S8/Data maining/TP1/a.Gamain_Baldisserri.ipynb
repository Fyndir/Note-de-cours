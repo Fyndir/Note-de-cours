{
 "cells": [
  {
   "cell_type": "code",
   "execution_count": 1,
   "metadata": {},
   "outputs": [
    {
     "name": "stdout",
     "output_type": "stream",
     "text": [
      "0\n",
      "0 1\n",
      "0 1 2\n",
      "0 1 2 3\n",
      "0 1 2 3 4\n",
      "0 1 2 3 4 5\n",
      "0 1 2 3 4 5 6\n"
     ]
    }
   ],
   "source": [
    "for i in range(6 + 1):\n",
    "    print(' '.join(map(lambda x: str(x), range(i + 1))))"
   ]
  },
  {
   "cell_type": "code",
   "execution_count": 8,
   "metadata": {},
   "outputs": [
    {
     "name": "stdout",
     "output_type": "stream",
     "text": [
      "student0, age: 0, notes: [0, 1, 2, 3, 4]\n",
      "student1, age: 1, notes: [1, 2, 3, 4, 5]\n",
      "student2, age: 2, notes: [2, 3, 4, 5, 6]\n",
      "student3, age: 3, notes: [3, 4, 5, 6, 7]\n",
      "student4, age: 4, notes: [4, 5, 6, 7, 8]\n",
      "student5, age: 5, notes: [5, 6, 7, 8, 9]\n",
      "student6, age: 6, notes: [6, 7, 8, 9, 10]\n",
      "student7, age: 7, notes: [7, 8, 9, 10, 11]\n",
      "student8, age: 8, notes: [8, 9, 10, 11, 12]\n",
      "student9, age: 9, notes: [9, 10, 11, 12, 13]\n",
      "module 0, moyenne: 4.5, min: 0, max: 9\n",
      "student0, age: 0, notes: [0, 1, 2, 3, 4]\n",
      "student1, age: 1, notes: [1, 2, 3, 4, 5]\n",
      "student2, age: 2, notes: [2, 3, 4, 5, 6]\n",
      "student3, age: 3, notes: [3, 4, 5, 6, 7]\n",
      "student4, age: 4, notes: [4, 5, 6, 7, 8]\n",
      "student5, age: 5, notes: [5, 6, 7, 8, 9]\n",
      "student6, age: 6, notes: [6, 7, 8, 9, 10]\n",
      "student7, age: 7, notes: [7, 8, 9, 10, 11]\n",
      "student8, age: 8, notes: [8, 9, 10, 11, 12]\n",
      "student9, age: 9, notes: [9, 10, 11, 12, 13]\n",
      "module 1, moyenne: 10.0, min: 0, max: 10\n",
      "student0, age: 0, notes: [0, 1, 2, 3, 4]\n",
      "student1, age: 1, notes: [1, 2, 3, 4, 5]\n",
      "student2, age: 2, notes: [2, 3, 4, 5, 6]\n",
      "student3, age: 3, notes: [3, 4, 5, 6, 7]\n",
      "student4, age: 4, notes: [4, 5, 6, 7, 8]\n",
      "student5, age: 5, notes: [5, 6, 7, 8, 9]\n",
      "student6, age: 6, notes: [6, 7, 8, 9, 10]\n",
      "student7, age: 7, notes: [7, 8, 9, 10, 11]\n",
      "student8, age: 8, notes: [8, 9, 10, 11, 12]\n",
      "student9, age: 9, notes: [9, 10, 11, 12, 13]\n",
      "module 2, moyenne: 16.5, min: 0, max: 11\n",
      "student0, age: 0, notes: [0, 1, 2, 3, 4]\n",
      "student1, age: 1, notes: [1, 2, 3, 4, 5]\n",
      "student2, age: 2, notes: [2, 3, 4, 5, 6]\n",
      "student3, age: 3, notes: [3, 4, 5, 6, 7]\n",
      "student4, age: 4, notes: [4, 5, 6, 7, 8]\n",
      "student5, age: 5, notes: [5, 6, 7, 8, 9]\n",
      "student6, age: 6, notes: [6, 7, 8, 9, 10]\n",
      "student7, age: 7, notes: [7, 8, 9, 10, 11]\n",
      "student8, age: 8, notes: [8, 9, 10, 11, 12]\n",
      "student9, age: 9, notes: [9, 10, 11, 12, 13]\n",
      "module 3, moyenne: 24.0, min: 0, max: 12\n",
      "student0, age: 0, notes: [0, 1, 2, 3, 4]\n",
      "student1, age: 1, notes: [1, 2, 3, 4, 5]\n",
      "student2, age: 2, notes: [2, 3, 4, 5, 6]\n",
      "student3, age: 3, notes: [3, 4, 5, 6, 7]\n",
      "student4, age: 4, notes: [4, 5, 6, 7, 8]\n",
      "student5, age: 5, notes: [5, 6, 7, 8, 9]\n",
      "student6, age: 6, notes: [6, 7, 8, 9, 10]\n",
      "student7, age: 7, notes: [7, 8, 9, 10, 11]\n",
      "student8, age: 8, notes: [8, 9, 10, 11, 12]\n",
      "student9, age: 9, notes: [9, 10, 11, 12, 13]\n",
      "module 4, moyenne: 32.5, min: 0, max: 13\n"
     ]
    }
   ],
   "source": [
    "class Student:\n",
    "    def __init__(self, name, age, grades):\n",
    "        self.nom = name\n",
    "        self.age = age\n",
    "        self.notes = grades\n",
    "\n",
    "    def __str__(self):\n",
    "        return f\"{self.nom}, age: {self.age}, notes: {self.notes}\"\n",
    "\n",
    "students = [Student(\"student\" + str(x), x, [y+x for y in range(5)]) for x in range(10)]\n",
    "\n",
    "som = 0\n",
    "mini = 20\n",
    "maxi = 0\n",
    "\n",
    "for i in range(5):\n",
    "    for student in students:\n",
    "        print(student)\n",
    "\n",
    "        note = student.notes[i]\n",
    "        som += note\n",
    "\n",
    "        if note < mini:\n",
    "            mini = student.notes[i]\n",
    "        if note > maxi:\n",
    "            maxi = student.notes[i]\n",
    "    print(f\"module {i}, moyenne: {som / len(students)}, min: {mini}, max: {maxi}\")"
   ]
  },
  {
   "cell_type": "code",
   "execution_count": 3,
   "metadata": {},
   "outputs": [
    {
     "name": "stdout",
     "output_type": "stream",
     "text": [
      "nb_chars: 232\n",
      "nb_lines: 11\n",
      "nb_words: 33\n",
      "first_twenty: ['DOCTYPE', 'html', 'html', 'lang', 'en', 'head', 'meta', 'charset', 'UTF', '8', 'meta', 'name', 'viewport', 'content', 'width', 'device', 'width', 'initial', 'scale', '1']\n",
      "distinct_words: {'head', 'Hello', 'meta', 'title', 'charset', 'en', 'name', 'content', 'UTF', '0', 'width', 'scale', 'DOCTYPE', 'world', '8', 'h1', '1', 'initial', 'lang', 'body', 'device', 'viewport', 'html'}\n"
     ]
    }
   ],
   "source": [
    "import re\n",
    "\n",
    "re_words = re.compile('\\w+')\n",
    "\n",
    "with open(\"index.html\") as file:\n",
    "    content = file.read()\n",
    "\n",
    "words = re_words.findall(content)\n",
    "\n",
    "nb_chars = len(content)\n",
    "nb_lines = len(content.split('\\n'))\n",
    "nb_words = len(words)\n",
    "first_twenty = words[:20]\n",
    "distinct_words = set(words)\n",
    "\n",
    "print(f'nb_chars: {nb_chars}\\nnb_lines: {nb_lines}\\nnb_words: {nb_words}\\nfirst_twenty: {first_twenty}\\ndistinct_words: {distinct_words}')\n"
   ]
  },
  {
   "cell_type": "code",
   "execution_count": 22,
   "metadata": {},
   "outputs": [
    {
     "name": "stdout",
     "output_type": "stream",
     "text": [
      "(1901, 40681000) (2016, 66632870)\n"
     ]
    }
   ],
   "source": [
    "with open(\"population.csv\") as file:\n",
    "    lines = file.readlines()\n",
    "    \n",
    "mini = (0, float('Inf'))\n",
    "maxi = (0, -float('Inf'))\n",
    "\n",
    "for line in lines[1:]:\n",
    "    (year, population) = map(lambda x: int(x), line.split(','))\n",
    "    if population < mini[1]:\n",
    "        mini = (year, population)\n",
    "    if population > maxi[1]:\n",
    "        maxi = (year, population)\n",
    "    \n",
    "print(mini, maxi)"
   ]
  }
 ],
 "metadata": {
  "kernelspec": {
   "display_name": "Python 3",
   "language": "python",
   "name": "python3"
  },
  "language_info": {
   "codemirror_mode": {
    "name": "ipython",
    "version": 3
   },
   "file_extension": ".py",
   "mimetype": "text/x-python",
   "name": "python",
   "nbconvert_exporter": "python",
   "pygments_lexer": "ipython3",
   "version": "3.8.1"
  }
 },
 "nbformat": 4,
 "nbformat_minor": 4
}
