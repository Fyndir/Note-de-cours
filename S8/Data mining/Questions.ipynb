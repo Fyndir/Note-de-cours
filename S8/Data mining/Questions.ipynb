{
 "cells": [
  {
   "cell_type": "code",
   "execution_count": 54,
   "metadata": {},
   "outputs": [
    {
     "name": "stdout",
     "output_type": "stream",
     "text": [
      "   PhotoId       City  Year  ViewNb\n",
      "0        0      Paris  2018   73885\n",
      "1        1       Lyon  2018   89628\n",
      "2        2       Lyon  2018   16777\n",
      "3        3  Marseille  2015   47132\n",
      "4        4      Paris  2012   50052\n",
      "5        5      Paris  2012    5844\n"
     ]
    }
   ],
   "source": [
    "# generating data\n",
    "\n",
    "# Usually, we open and read a .csv file with : \n",
    "# import json\n",
    "# data = json.load(open([FileDirectory]))\n",
    "# dataFrame = pd.json_normalize(data)\n",
    "\n",
    "import pandas as pd\n",
    "import random as rd\n",
    "                                                            \n",
    "generatedViewScore = []\n",
    "for i in range(6):\n",
    "    generatedViewScore.append(rd.randint(0,100000))\n",
    "\n",
    "data = {\n",
    "    \"PhotoId\" : range(0,6),\n",
    "    \"City\" : [\"Paris\",\"Lyon\",\"Lyon\",\"Marseille\",\"Paris\",\"Paris\"],\n",
    "    \"Year\" : [\"2018\",\"2018\",\"2018\",\"2015\",\"2012\",\"2012\"],\n",
    "    \"ViewNb\" : generatedViewScore\n",
    "}\n",
    "\n",
    "df = pd.DataFrame(data)\n",
    "\n",
    "print(df)"
   ]
  },
  {
   "cell_type": "code",
   "execution_count": 19,
   "metadata": {},
   "outputs": [
    {
     "name": "stdout",
     "output_type": "stream",
     "text": [
      "PhotoId        5\n",
      "City       Paris\n",
      "year        1892\n",
      "ViewNb     85121\n",
      "Name: 5, dtype: object\n"
     ]
    }
   ],
   "source": [
    "# Most viewed photo\n",
    "\n",
    "# Sorted by Views Number\n",
    "sorted_df = df.sort_values(by=['ViewNb'],ascending=False)\n",
    "\n",
    "# Print the first row\n",
    "print(sorted_df.iloc[0])"
   ]
  },
  {
   "cell_type": "code",
   "execution_count": 53,
   "metadata": {},
   "outputs": [
    {
     "name": "stdout",
     "output_type": "stream",
     "text": [
      "City    Paris\n",
      "Name: 2, dtype: object\n",
      "City    Marseille\n",
      "Name: 1, dtype: object\n"
     ]
    }
   ],
   "source": [
    "# City where the most photos has been taken and the less\n",
    "\n",
    "# We only need the city column\n",
    "city_df = df[['City']]\n",
    "\n",
    "# How many photos has been taken for each city\n",
    "grouped_df = city_df.groupby(['City']).size().reset_index(name='counts')\n",
    "\n",
    "# We sort them\n",
    "sorted_grouped_df = grouped_df.sort_values(by=['counts'],ascending=False)\n",
    "\n",
    "# We take the first and the last\n",
    "max_row = sorted_grouped_df.iloc[0][['City']]\n",
    "min_row = sorted_grouped_df.iloc[-1][['City']]\n",
    "\n",
    "print(max_row)\n",
    "print(min_row)"
   ]
  },
  {
   "cell_type": "code",
   "execution_count": 57,
   "metadata": {},
   "outputs": [
    {
     "name": "stdout",
     "output_type": "stream",
     "text": [
      "Year    2018\n",
      "Name: 2, dtype: object\n"
     ]
    }
   ],
   "source": [
    "# Year where the most photo has been taken\n",
    "\n",
    "# We only need the year column\n",
    "year_df = df[['Year']]\n",
    "\n",
    "# How many photos has been taken every years\n",
    "grouped_df = year_df.groupby(['Year']).size().reset_index(name='counts')\n",
    "\n",
    "# We sort them\n",
    "sorted_grouped_df = grouped_df.sort_values(by=['counts'],ascending=False)\n",
    "\n",
    "# We take the first and the last\n",
    "max_year = sorted_grouped_df.iloc[0][['Year']]\n",
    "print(max_year)"
   ]
  },
  {
   "cell_type": "code",
   "execution_count": 69,
   "metadata": {},
   "outputs": [
    {
     "name": "stdout",
     "output_type": "stream",
     "text": [
      "    City   ViewNb\n",
      "             mean\n",
      "0   Lyon  53202.5\n",
      "1  Paris  73885.0\n"
     ]
    }
   ],
   "source": [
    "# Average views on 2018 for each city\n",
    "\n",
    "# We only keep data from 2018\n",
    "df_2018 = df[df['Year'] == '2018']\n",
    "\n",
    "# We only keep 'City' and 'ViewNb' \n",
    "city_views_on_2018_df = df_2018[['City','ViewNb']]\n",
    "\n",
    "# We group by city and year\n",
    "grouped_df = city_views_on_2018_df.groupby(['City']).agg(['mean']).reset_index()\n",
    "print(grouped_df)\n"
   ]
  }
 ],
 "metadata": {
  "kernelspec": {
   "display_name": "Python 3",
   "language": "python",
   "name": "python3"
  },
  "language_info": {
   "codemirror_mode": {
    "name": "ipython",
    "version": 3
   },
   "file_extension": ".py",
   "mimetype": "text/x-python",
   "name": "python",
   "nbconvert_exporter": "python",
   "pygments_lexer": "ipython3",
   "version": "3.7.3"
  }
 },
 "nbformat": 4,
 "nbformat_minor": 4
}
